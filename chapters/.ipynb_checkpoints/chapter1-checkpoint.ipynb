{
 "cells": [
  {
   "cell_type": "markdown",
   "id": "c19dc056",
   "metadata": {},
   "source": [
    "# 第1章: 数と式\n",
    "\n",
    "- - -\n",
    "\n",
    "## 1節: 式の展開と因数分解\n",
    "\n",
    "問1〜5は単純に同一の式の内の同類項を揃えることを扱っているため, ここでは扱われない"
   ]
  },
  {
   "cell_type": "code",
   "execution_count": 1,
   "id": "dbb8b633",
   "metadata": {},
   "outputs": [],
   "source": [
    "import numpy as np"
   ]
  },
  {
   "cell_type": "markdown",
   "id": "29d7c008",
   "metadata": {},
   "source": [
    "- - -\n",
    "\n",
    "### 問6\n",
    "\n",
    "$$\n",
    "[a, b, c] = a \\times x + b \\times y + c \\times z \\space \\space (a, b, cは全て定数)\n",
    "$$"
   ]
  },
  {
   "cell_type": "code",
   "execution_count": 2,
   "id": "22965ccf",
   "metadata": {},
   "outputs": [],
   "source": [
    "def prob6(A: np.poly1d, B: np.poly1d):\n",
    "    print(\"-\"*40)\n",
    "    print(f\"A + B = \\n{(A + B).c}\")\n",
    "    print(f\"A - B = \\n{(A - B).c}\")\n",
    "    print(f\"3A = \\n{(3*A).c}\")\n",
    "    print(\"-\"*40)"
   ]
  },
  {
   "cell_type": "code",
   "execution_count": 3,
   "id": "66ac1cf5",
   "metadata": {},
   "outputs": [
    {
     "name": "stdout",
     "output_type": "stream",
     "text": [
      "----------------------------------------\n",
      "A + B = \n",
      "[ 4 -1  2]\n",
      "A - B = \n",
      "[-2 -3  6]\n",
      "3A = \n",
      "[ 3 -6 12]\n",
      "----------------------------------------\n",
      "----------------------------------------\n",
      "A + B = \n",
      "[-1  4 -3]\n",
      "A - B = \n",
      "[  5 -10   1]\n",
      "3A = \n",
      "[ 6 -9 -3]\n",
      "----------------------------------------\n",
      "----------------------------------------\n",
      "A + B = \n",
      "[-2  2 -7 -4]\n",
      "A - B = \n",
      "[ 4 -2  3 -2]\n",
      "3A = \n",
      "[ 3  0 -6 -9]\n",
      "----------------------------------------\n",
      "----------------------------------------\n",
      "A + B = \n",
      "[ 3  0 -4]\n",
      "A - B = \n",
      "[ 1 -2  2]\n",
      "3A = \n",
      "[ 6 -3 -3]\n",
      "----------------------------------------\n"
     ]
    }
   ],
   "source": [
    "# (1)\n",
    "## [x, y, z]\n",
    "A = np.poly1d([1, -2, 4])\n",
    "B = np.poly1d([3, 1, -2])\n",
    "prob6(A, B)\n",
    "\n",
    "# (2)\n",
    "## [x^2, x, x^0]\n",
    "A = np.poly1d([2, -3, -1])\n",
    "B = np.poly1d([-3, 7, -2])\n",
    "prob6(A, B)\n",
    "\n",
    "# (3)\n",
    "## [x^3, x^2, x, x^0]\n",
    "A = np.poly1d([1, 0, -2, -3])\n",
    "B = np.poly1d([-3, 2, -5, -1])\n",
    "prob6(A, B)\n",
    "\n",
    "# (4)\n",
    "## [x^2, xy, y^2]\n",
    "A = np.poly1d([2, -1, -1])\n",
    "B = np.poly1d([1, 1, -3])\n",
    "prob6(A, B)"
   ]
  },
  {
   "cell_type": "markdown",
   "id": "2686cca0",
   "metadata": {
    "lines_to_next_cell": 2
   },
   "source": [
    "- - -\n",
    "\n",
    "### 問7\n",
    "\n",
    "$$\n",
    "A = 3x^2 - x + 1 \\\\\n",
    "B = -x^2 + 4x - 3\n",
    "$$\n",
    "\n",
    "これらを次の式で計算せよ"
   ]
  },
  {
   "cell_type": "code",
   "execution_count": 4,
   "id": "f7a20610",
   "metadata": {},
   "outputs": [],
   "source": [
    "def prob7(prob: str, ans: np.poly1d):\n",
    "    print('-'*40)\n",
    "    print(f\"{prob} = \\n{ans.c}\")\n",
    "    print('-'*40)\n",
    "\n",
    "A = np.poly1d([3, -1, 1])\n",
    "B = np.poly1d([-1, 4, -3])"
   ]
  },
  {
   "cell_type": "code",
   "execution_count": 5,
   "id": "cb7f25da",
   "metadata": {},
   "outputs": [
    {
     "name": "stdout",
     "output_type": "stream",
     "text": [
      "----------------------------------------\n",
      "3A - 2B = \n",
      "[ 11 -11   9]\n",
      "----------------------------------------\n",
      "----------------------------------------\n",
      "2B - (B - 2A) = \n",
      "[ 5  2 -1]\n",
      "----------------------------------------\n",
      "----------------------------------------\n",
      "2(A - 3B) - 3(A + B) = \n",
      "[  6 -35  26]\n",
      "----------------------------------------\n"
     ]
    }
   ],
   "source": [
    "# (1)\n",
    "prob7(\"3A - 2B\", 3*A - 2*B)\n",
    "\n",
    "# (2)\n",
    "prob7(\"2B - (B - 2A)\", 2*B - (B - 2*A))\n",
    "\n",
    "# (3)\n",
    "prob7(\"2(A - 3B) - 3(A + B)\", 2*(A - 3*B) - 3*(A + B))"
   ]
  },
  {
   "cell_type": "markdown",
   "id": "061f4445",
   "metadata": {},
   "source": [
    "- - -\n",
    "\n",
    "### 問8\n",
    "\n",
    "$$\n",
    "A = x^2 - 2xy - 3y^2 \\\\\n",
    "B = -x^2 + 3xy - 2y^2 \\\\\n",
    "C = x^2 - xy + y^2\n",
    "$$\n",
    "\n",
    "これらを次の式で計算せよ"
   ]
  },
  {
   "cell_type": "code",
   "execution_count": 6,
   "id": "cecbb74c",
   "metadata": {},
   "outputs": [],
   "source": [
    "prob8 = prob7\n",
    "A = np.poly1d([1, -2, -3])\n",
    "B = np.poly1d([-1, 3, -2])\n",
    "C = np.poly1d([1, -1, 1])"
   ]
  },
  {
   "cell_type": "code",
   "execution_count": 7,
   "id": "51d2e7fb",
   "metadata": {},
   "outputs": [
    {
     "name": "stdout",
     "output_type": "stream",
     "text": [
      "----------------------------------------\n",
      "2A + B - C = \n",
      "[-9]\n",
      "----------------------------------------\n",
      "----------------------------------------\n",
      "A + 2B - 2(B - C) = \n",
      "[ 3 -4 -1]\n",
      "----------------------------------------\n",
      "----------------------------------------\n",
      "3(A - 2B) - 2(C - 3B) = \n",
      "[  1  -4 -11]\n",
      "----------------------------------------\n"
     ]
    }
   ],
   "source": [
    "# (1)\n",
    "prob8(\"2A + B - C\", 2*A+B-C)\n",
    "\n",
    "# (2)\n",
    "prob8(\"A + 2B - 2(B - C)\", A+2*B-2*(B-C))\n",
    "\n",
    "# (3)\n",
    "prob8(\"3(A - 2B) - 2(C - 3B)\", 3*(A-2*B)-2*(C-3*B))"
   ]
  },
  {
   "cell_type": "markdown",
   "id": "7085b69a",
   "metadata": {},
   "source": [
    "- - -\n",
    "\n",
    "### 問9\n",
    "\n",
    "$$\n",
    "A = 3x^2 + 2x - 1 \\\\\n",
    "B = -x^2 + 2x + 4\n",
    "$$\n",
    "\n",
    "のとき, 次の式を満たす整式_X_を求めよ"
   ]
  },
  {
   "cell_type": "code",
   "execution_count": 8,
   "id": "48afbfc2",
   "metadata": {},
   "outputs": [],
   "source": [
    "def prob9(X_1: list, X_2: list): # [X_scala, np.array([x^2, x, x^0])]\n",
    "    # converting [int, np.array] into np.array(list of ints)\n",
    "    tmpX_1 = [X_1[0]]\n",
    "    for i in X_1[1]: tmpX_1.append(i)\n",
    "    tmpX_1 = np.array(tmpX_1)\n",
    "    tmpX_2 = [X_2[0]]\n",
    "    for i in X_2[1]: tmpX_2.append(i)\n",
    "    tmpX_2 = np.array(tmpX_2)\n",
    "    # ======================================================\n",
    "    ans = tmpX_1 - tmpX_2\n",
    "    ans = 1/ans[0]*ans[1:] if abs(ans[0]) > 1 else ans[1:]\n",
    "    ans = np.poly1d(ans)\n",
    "    print(f\"{'-'*40}\\nX = \\n{ans}\\n{'-'*40}\")\n",
    "    \n",
    "A = np.array([3, 2, -1])\n",
    "B = np.array([-1, 2, 4])"
   ]
  },
  {
   "cell_type": "code",
   "execution_count": 9,
   "id": "e76164d2",
   "metadata": {},
   "outputs": [
    {
     "name": "stdout",
     "output_type": "stream",
     "text": [
      "----------------------------------------\n",
      "X = \n",
      "    2\n",
      "-7 x - 2 x + 6\n",
      "----------------------------------------\n",
      "----------------------------------------\n",
      "X = \n",
      "    2\n",
      "-5 x - 6 x - 2\n",
      "----------------------------------------\n"
     ]
    }
   ],
   "source": [
    "# (1)\n",
    "## X-2A=2X-B\n",
    "prob9([1, -2*A], [2, -1*B])\n",
    "\n",
    "# (2)\n",
    "## 3X-2B=X+4A\n",
    "prob9([3, -2*B], [1, 4*A])"
   ]
  },
  {
   "cell_type": "markdown",
   "id": "d48c0d5d",
   "metadata": {},
   "source": [
    "- - -\n",
    "\n",
    "## 2節: 整式の乗法\n",
    "\n",
    "問10〜13は単項式, 多項式同士の展開であるため, ここでは扱わない\n",
    "\n",
    "### Pythonを用いた単項式・多項式同士の演算方法\n",
    "- Numpyを用いて単項式, 多項式の演算を行う際はpoly1dメソッドを用いると乗算を行うことができる\n",
    "    - しかし, 出力結果が$$ax^n + bx^{n-1} + \\dots + cx^0$$のようになってしまう。<br/>これは複数種の項を含む式 (αx+βy+γzなど) を計算する際には向かない。そのため, poly1dメソッドのあとに.cをつけることで$$[a, b, \\dots, c]$$のような出力結果となり, 項を出力しなくすることができる\n",
    "\n",
    "- - -\n",
    "\n",
    "### 問14\n",
    "\n",
    "次の式を計算せよ。"
   ]
  },
  {
   "cell_type": "code",
   "execution_count": 10,
   "id": "0a06023a",
   "metadata": {},
   "outputs": [],
   "source": [
    "def prob14(prob: str, ans: np.poly1d):\n",
    "    print('-'*40)\n",
    "    print(f\"{prob} =\\n{ans.c}\")\n",
    "    print('-'*40)"
   ]
  },
  {
   "cell_type": "code",
   "execution_count": 11,
   "id": "cbf6ecbc",
   "metadata": {},
   "outputs": [
    {
     "name": "stdout",
     "output_type": "stream",
     "text": [
      "----------------------------------------\n",
      "(x + y)^2 + (x - y)^2 =\n",
      "[2 0 2]\n",
      "----------------------------------------\n",
      "----------------------------------------\n",
      "(x + y)^2 - (x - y)^2 =\n",
      "[4 0]\n",
      "----------------------------------------\n",
      "----------------------------------------\n",
      "(x - 1)(x + 2) - x(x + 1) =\n",
      "[-2]\n",
      "----------------------------------------\n",
      "----------------------------------------\n",
      "(a + 2b)^2 - (a - 2b)(a + 2b) =\n",
      "[4 8]\n",
      "----------------------------------------\n"
     ]
    }
   ],
   "source": [
    "# (1)\n",
    "## (x+y)^2 + (x-y)^2\n",
    "prob14_1 = np.poly1d([1, 1])**2 + np.poly1d([1, -1])**2\n",
    "prob14(\"(x + y)^2 + (x - y)^2\", prob14_1)\n",
    "\n",
    "# (2)\n",
    "## (x + y)^2 - (x - y)^2\n",
    "prob14_2 = np.poly1d([1, 1])**2 - np.poly1d([1, -1])**2\n",
    "prob14(\"(x + y)^2 - (x - y)^2\", prob14_2)\n",
    "\n",
    "# (3)\n",
    "## (x - 1)(x + 2) - x(x + 1)\n",
    "prob14_3 = np.poly1d([1, -1])*np.poly1d([1, 2]) - np.poly1d([1, 0])*np.poly1d([1, 1])\n",
    "prob14(\"(x - 1)(x + 2) - x(x + 1)\", prob14_3)\n",
    "\n",
    "# (4)\n",
    "## (a + 2b)^2 - (a - 2b)(a + 2b)\n",
    "prob14_4 = np.poly1d([1, 2])**2 - np.poly1d([1, -2])*np.poly1d([1, 2])\n",
    "prob14(\"(a + 2b)^2 - (a - 2b)(a + 2b)\", prob14_4)"
   ]
  },
  {
   "cell_type": "code",
   "execution_count": null,
   "id": "f263fa62",
   "metadata": {},
   "outputs": [],
   "source": []
  }
 ],
 "metadata": {
  "jupytext": {
   "encoding": "# -*- coding: utf-8 -*-",
   "text_representation": {
    "extension": ".py",
    "format_name": "light",
    "format_version": "1.5",
    "jupytext_version": "1.11.2"
   }
  },
  "kernelspec": {
   "display_name": "Python 3",
   "language": "python",
   "name": "python3"
  },
  "language_info": {
   "codemirror_mode": {
    "name": "ipython",
    "version": 3
   },
   "file_extension": ".py",
   "mimetype": "text/x-python",
   "name": "python",
   "nbconvert_exporter": "python",
   "pygments_lexer": "ipython3",
   "version": "3.9.4"
  }
 },
 "nbformat": 4,
 "nbformat_minor": 5
}
